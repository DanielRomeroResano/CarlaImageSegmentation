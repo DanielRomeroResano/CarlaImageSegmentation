{
 "cells": [
  {
   "cell_type": "code",
   "execution_count": 1,
   "id": "427f2cbe-ac25-4dd9-8232-146af52168d3",
   "metadata": {},
   "outputs": [],
   "source": [
    "\n",
    "import os\n",
    "import cv2\n",
    "import numpy as np\n",
    "\n",
    "outPath = \"_out/\"\n",
    "segPath = \"_outSeg/\"\n",
    "convPath = \"_conv3/\"\n",
    "\n",
    "outFileNames = os.listdir(outPath)\n",
    "gtFileNames = os.listdir(segPath)"
   ]
  },
  {
   "cell_type": "code",
   "execution_count": 42,
   "id": "c08bf0fd-85e7-4ed7-ab3d-ab2529bc393c",
   "metadata": {},
   "outputs": [],
   "source": [
    "def convertFileName(FileName):\n",
    "    s1,s2,s3 = FileName.split(\"-\")\n",
    "    return s3"
   ]
  },
  {
   "cell_type": "code",
   "execution_count": 43,
   "id": "dfb137a0-3387-44cc-b0a7-927530beb349",
   "metadata": {},
   "outputs": [
    {
     "data": {
      "text/plain": [
       "76028"
      ]
     },
     "execution_count": 43,
     "metadata": {},
     "output_type": "execute_result"
    }
   ],
   "source": [
    "matchingFiles = set(outFileNames) & set(gtFileNames)\n",
    "\n",
    "len(matchingFiles)\n"
   ]
  },
  {
   "cell_type": "code",
   "execution_count": null,
   "id": "a5ef43e3-1029-4dd7-9d52-1c575e5e9ae6",
   "metadata": {},
   "outputs": [],
   "source": [
    "import os\n",
    "\n",
    "\n",
    "for fileName in outFileNames:\n",
    "    try:\n",
    "        os.rename(outPath+ fileName, outPath+ convertFileName(fileName), src_dir_fd=None, dst_dir_fd=None)\n",
    "    except:\n",
    "        print (fileName)\n",
    "\n",
    "for fileName in gtFileNames:\n",
    "    try:\n",
    "        os.rename(segPath+ fileName, segPath+ convertFileName(fileName), src_dir_fd=None, dst_dir_fd=None)\n",
    "    except:\n",
    "        print (fileName)\n",
    "\n"
   ]
  },
  {
   "cell_type": "code",
   "execution_count": 26,
   "id": "59b02b8b-94d8-4152-b439-dc3e6468cf36",
   "metadata": {},
   "outputs": [],
   "source": [
    "outFileNames = os.listdir(outPath)\n",
    "gtFileNames = os.listdir(segPath)"
   ]
  },
  {
   "cell_type": "code",
   "execution_count": 29,
   "id": "fe7c1406-1d0b-4c40-9baf-444bef010da9",
   "metadata": {},
   "outputs": [
    {
     "data": {
      "text/plain": [
       "24703"
      ]
     },
     "execution_count": 29,
     "metadata": {},
     "output_type": "execute_result"
    }
   ],
   "source": [
    "matchingFiles = set(outFileNames) & set(gtFileNames)\n",
    "\n",
    "len(matchingFiles)\n"
   ]
  },
  {
   "cell_type": "code",
   "execution_count": 23,
   "id": "275ea99d-e055-44af-b8d8-733310d2ad40",
   "metadata": {},
   "outputs": [
    {
     "name": "stdout",
     "output_type": "stream",
     "text": [
      "Deliting file seg: 14077.png\n",
      "Deliting file seg: 14953.png\n",
      "Deliting file seg: 24852.png\n",
      "Deliting file seg: 24918.png\n",
      "Deliting file seg: 24927.png\n",
      "Deliting file seg: 24984.png\n",
      "Deliting file seg: 25506.png\n",
      "Deliting file seg: 25583.png\n",
      "Deliting file seg: 25606.png\n",
      "Deliting file seg: 25612.png\n",
      "Deliting file seg: 25629.png\n",
      "Deliting file seg: 25662.png\n",
      "Deliting file seg: 25668.png\n",
      "Deliting file seg: 25698.png\n",
      "Deliting file seg: 35696.png\n",
      "Deliting file seg: 42538.png\n",
      "Deliting file seg: 42587.png\n",
      "Deliting file seg: 42753.png\n",
      "Deliting file seg: 42781.png\n",
      "Deliting file seg: 42808.png\n",
      "Deliting file seg: 43512.png\n",
      "Deliting file seg: 45595.png\n",
      "Deliting file seg: 48395.png\n",
      "Deliting file seg: 48397.png\n",
      "Deliting file seg: 48438.png\n",
      "Deliting file seg: 57447.png\n",
      "Deliting file seg: 59595.png\n",
      "Deliting file seg: 65601.png\n",
      "Deliting file seg: 67602.png\n",
      "Deliting file seg: 67731.png\n",
      "Deliting file seg: 68122.png\n",
      "Deliting file seg: 72138.png\n",
      "Deliting file seg: 80595.png\n",
      "Deliting file seg: 81872.png\n",
      "Deliting file seg: 82337.png\n",
      "Deliting file seg: 82524.png\n"
     ]
    }
   ],
   "source": [
    "notMatchingFiles = []\n",
    "for fileName in gtFileNames:\n",
    "    if(fileName not in matchingFiles):\n",
    "        print('Deliting file seg: ' + fileName)\n",
    "        os.remove(segPath+fileName)\n",
    "for fileName in outFileNames:\n",
    "    if(fileName not in matchingFiles):\n",
    "        print('Deliting file out: ' + fileName)\n",
    "        os.remove(outPath+fileName)"
   ]
  },
  {
   "cell_type": "code",
   "execution_count": 33,
   "id": "1245a1fe-4b0b-4df2-9a37-bd6ef6b9f523",
   "metadata": {},
   "outputs": [],
   "source": [
    "outFileNames = os.listdir(outPath)\n",
    "gtFileNames = os.listdir(segPath)"
   ]
  },
  {
   "cell_type": "code",
   "execution_count": 37,
   "id": "55639d05-1018-403c-9f5c-8fdc262fb791",
   "metadata": {},
   "outputs": [
    {
     "name": "stdout",
     "output_type": "stream",
     "text": [
      "24703\n",
      "24703\n",
      "24703\n"
     ]
    }
   ],
   "source": [
    "matchingFiles = set(outFileNames) & set(gtFileNames)\n",
    "\n",
    "print(len(matchingFiles))\n",
    "print(len(gtFileNames))\n",
    "print(len(outFileNames))\n"
   ]
  },
  {
   "cell_type": "code",
   "execution_count": 18,
   "id": "8f7f6f9e-19d4-4cdc-adf9-9275d43a2974",
   "metadata": {},
   "outputs": [],
   "source": [
    "def processImage(fileName):\n",
    "    try:\n",
    "        img = cv2.imread(segPath + fileName, cv2.IMREAD_COLOR)\n",
    "        red_channel = img[:, :, 2]\n",
    "    \n",
    "        mask = np.logical_or(red_channel == 14, np.logical_or(red_channel == 15, red_channel == 16))\n",
    "        newImg = np.zeros_like(red_channel, dtype=np.uint8)\n",
    "        newImg[mask] = 255\n",
    "    \n",
    "        grayImage = cv2.cvtColor(newImg, cv2.COLOR_GRAY2BGR)\n",
    "        path = convPath + fileName\n",
    "        cv2.imwrite(path, grayImage)\n",
    "        return grayImage\n",
    "    except:\n",
    "        print(\"An exception occurred processing: \" + fileName)\n"
   ]
  },
  {
   "cell_type": "code",
   "execution_count": 3,
   "id": "e2b0f367-3332-4476-b832-d26358269903",
   "metadata": {},
   "outputs": [
    {
     "name": "stdout",
     "output_type": "stream",
     "text": [
      "val: 32\n",
      "val: 33\n",
      "val: 34\n"
     ]
    }
   ],
   "source": [
    "def ShowMapping(fileName):\n",
    "    img = cv2.imread(segPath + fileName, cv2.IMREAD_COLOR)\n",
    "    blue_channel = img[:, :, 2]\n",
    "    res = np.zeros(blue_channel.shape)\n",
    "    for val in range(13,33):\n",
    "        print('val: ' + str(val))\n",
    "        for i,r in enumerate(blue_channel):\n",
    "            for j,p in enumerate(r):\n",
    "                if(p==val):\n",
    "                    res[i][j]=255\n",
    "        cv2.imshow('test', res) \n",
    "        \n",
    "        cv2.waitKey(0) \n",
    "        \n",
    "        cv2.destroyAllWindows() \n",
    "                \n"
   ]
  },
  {
   "cell_type": "markdown",
   "id": "3d3ef453-aa67-492b-90ef-6275805f91da",
   "metadata": {},
   "source": [
    "ShowMapping('11300.png')"
   ]
  },
  {
   "cell_type": "code",
   "execution_count": 19,
   "id": "3fbcac73-48a1-4ef1-a876-cd262f41ae18",
   "metadata": {},
   "outputs": [],
   "source": [
    "\n",
    "cv2.imshow('test', processImage('11300.png')) \n",
    "\n",
    "cv2.waitKey(0) \n",
    "\n",
    "cv2.destroyAllWindows() "
   ]
  },
  {
   "cell_type": "code",
   "execution_count": 20,
   "id": "3783ba2c-8fbf-442f-8daa-16ee7dfcc82f",
   "metadata": {},
   "outputs": [],
   "source": [
    "gtFileNames = os.listdir(segPath)\n",
    "for fileName in gtFileNames:\n",
    "    try:\n",
    "        processImage(fileName)\n",
    "    except:\n",
    "        print(\"An exception occurred processing: \" + fileName)"
   ]
  }
 ],
 "metadata": {
  "kernelspec": {
   "display_name": "Python 3 (ipykernel)",
   "language": "python",
   "name": "python3"
  },
  "language_info": {
   "codemirror_mode": {
    "name": "ipython",
    "version": 3
   },
   "file_extension": ".py",
   "mimetype": "text/x-python",
   "name": "python",
   "nbconvert_exporter": "python",
   "pygments_lexer": "ipython3",
   "version": "3.9.18"
  }
 },
 "nbformat": 4,
 "nbformat_minor": 5
}
