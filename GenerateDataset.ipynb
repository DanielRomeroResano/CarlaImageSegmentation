{
 "cells": [
  {
   "cell_type": "code",
   "execution_count": 1,
   "id": "ff659907-09e3-4e67-bb25-968536e82da5",
   "metadata": {},
   "outputs": [],
   "source": [
    "#Import Section\n",
    "import carla\n",
    "import math\n",
    "import random\n",
    "import time\n"
   ]
  },
  {
   "cell_type": "code",
   "execution_count": 2,
   "id": "d1933284-35cc-4945-9f8d-c9565592b463",
   "metadata": {},
   "outputs": [],
   "source": [
    "#Load Carla Client & world\n",
    "client = carla.Client('localhost',2000)\n",
    "world = client.load_world('Town04')\n",
    "\n",
    "world = client.get_world()\n"
   ]
  },
  {
   "cell_type": "code",
   "execution_count": 3,
   "id": "adaef03e-0d45-4a7b-b288-e51ce52a59ac",
   "metadata": {},
   "outputs": [],
   "source": [
    "#Get the blueprint lib\n",
    "bp_lib = world.get_blueprint_library()\n",
    "spawn_points = world.get_map().get_spawn_points()"
   ]
  },
  {
   "cell_type": "code",
   "execution_count": 4,
   "id": "da8c9251-6cf2-4ada-8f17-753e44d722fc",
   "metadata": {},
   "outputs": [],
   "source": [
    "#Set ego vehicle\n",
    "ego_bp = bp_lib.find('vehicle.mercedes.coupe_2020')\n",
    "ego_vehicle = world.try_spawn_actor(ego_bp, random.choice(spawn_points))\n",
    "\n",
    "spectator = world.get_spectator()\n",
    "transform = carla.Transform(ego_vehicle.get_transform().transform(carla.Location(x=0.1,z=1.5)),ego_vehicle.get_transform().rotation)\n",
    "spectator.set_transform(transform)"
   ]
  },
  {
   "cell_type": "code",
   "execution_count": null,
   "id": "da503adb-dd16-4d64-b03c-d13d12044eb6",
   "metadata": {},
   "outputs": [],
   "source": []
  },
  {
   "cell_type": "code",
   "execution_count": 5,
   "id": "ceb9f152-560d-41c0-9570-4645d182cb93",
   "metadata": {},
   "outputs": [],
   "source": [
    "def DeleteAllVehicles():\n",
    "    client.apply_batch_sync([carla.command.DestroyActor(x) for x in world.get_actors().filter('*vehicle*')])"
   ]
  },
  {
   "cell_type": "code",
   "execution_count": 6,
   "id": "347a73d0-31b2-46fc-9b64-5d9eca3a0d3a",
   "metadata": {},
   "outputs": [],
   "source": [
    "def followEgoVehWindow():\n",
    "    spectator = world.get_spectator()\n",
    "    transform = carla.Transform(ego_vehicle.get_transform().transform(carla.Location(x=0.1,z=1.5)),ego_vehicle.get_transform().rotation)\n",
    "    spectator.set_transform(transform)"
   ]
  },
  {
   "cell_type": "code",
   "execution_count": 7,
   "id": "cb08a47e-c2cc-4e59-bce0-f4d34885c247",
   "metadata": {},
   "outputs": [],
   "source": [
    "followEgoVehWindow()"
   ]
  },
  {
   "cell_type": "code",
   "execution_count": 8,
   "id": "f2fb3737-50dd-4bc0-88e1-52fbbb5a1229",
   "metadata": {},
   "outputs": [],
   "source": [
    "#Not all the cars inside carla have headlights so we are filtering the blueprint library in order to get only the models with headlights/tailights \n",
    "def hasLights(blueprint):\n",
    "    ret = False\n",
    "    for attr in blueprint:\n",
    "        if(attr.id=='has_lights' ):\n",
    "            if(str(attr)=='ActorAttribute(id=has_lights,type=bool,value=True(const))'):\n",
    "                return True\n",
    "    return ret\n",
    "\n",
    "\n",
    "vehicle_blueprints = [bp for bp in world.get_blueprint_library().filter('*vehicle*') if hasLights(bp)] #.filter(lambda a: hasLights(a))\n",
    "\n",
    "\n"
   ]
  },
  {
   "cell_type": "code",
   "execution_count": 9,
   "id": "cefa57aa-8863-4913-896c-0b8ef1ab3492",
   "metadata": {},
   "outputs": [],
   "source": [
    "ego_vehicle.set_autopilot(True)"
   ]
  },
  {
   "cell_type": "code",
   "execution_count": 10,
   "id": "291953f0-285f-413f-abec-2dbb868d7847",
   "metadata": {},
   "outputs": [
    {
     "name": "stdout",
     "output_type": "stream",
     "text": [
      "created vehicle.mercedes.coupe_2020\n"
     ]
    }
   ],
   "source": [
    "actor_list = []\n",
    "actor_list.append(ego_vehicle)\n",
    "print('created %s' % ego_vehicle.type_id)"
   ]
  },
  {
   "cell_type": "code",
   "execution_count": 11,
   "id": "6e30cd01-3461-498b-affc-e94faecee2f7",
   "metadata": {},
   "outputs": [],
   "source": [
    "image_w = 1920\n",
    "image_h = 1080"
   ]
  },
  {
   "cell_type": "code",
   "execution_count": 12,
   "id": "e5bb8cbb-d40b-4bc0-99e1-92744ab312f9",
   "metadata": {},
   "outputs": [
    {
     "name": "stdout",
     "output_type": "stream",
     "text": [
      "created ActorBlueprint(id=sensor.camera.rgb,tags=[sensor, camera, rgb])\n"
     ]
    }
   ],
   "source": [
    "camera_bp = bp_lib.find('sensor.camera.rgb') \n",
    "camera_bp.set_attribute('image_size_x', str(image_w))\n",
    "camera_bp.set_attribute('image_size_y', str(image_h))\n",
    "camera_init_trans = carla.Transform(carla.Location(x =-0.1,z=1.5),carla.Rotation(10,0,0)) \n",
    "camera = world.spawn_actor(camera_bp, camera_init_trans, attach_to=ego_vehicle)\n",
    "actor_list.append(camera_bp)\n",
    "print('created %s' % camera_bp)\n"
   ]
  },
  {
   "cell_type": "code",
   "execution_count": 13,
   "id": "170b2e1c-cc09-466a-ae82-1cb828373374",
   "metadata": {},
   "outputs": [
    {
     "name": "stdout",
     "output_type": "stream",
     "text": [
      "created Actor(id=26, type=sensor.camera.semantic_segmentation)\n"
     ]
    }
   ],
   "source": [
    "seg_cam_bp = bp_lib.find('sensor.camera.semantic_segmentation') \n",
    "seg_cam_bp.set_attribute('image_size_x', str(image_w))\n",
    "seg_cam_bp.set_attribute('image_size_y', str(image_h))\n",
    "seg_cam_init_trans = carla.Transform(carla.Location(x =-0.1,z=1.5),carla.Rotation(10,0,0)) \n",
    "seg_cam = world.spawn_actor(seg_cam_bp, seg_cam_init_trans, attach_to=ego_vehicle)\n",
    "actor_list.append(seg_cam_bp)\n",
    "print('created %s' % seg_cam)"
   ]
  },
  {
   "cell_type": "code",
   "execution_count": 14,
   "id": "7396517a-75ad-4f67-9046-1b475542b225",
   "metadata": {},
   "outputs": [],
   "source": [
    "\n",
    "\n",
    "image_w = camera_bp.get_attribute(\"image_size_x\").as_int()\n",
    "image_h = camera_bp.get_attribute(\"image_size_y\").as_int()\n"
   ]
  },
  {
   "cell_type": "code",
   "execution_count": 15,
   "id": "30491943-64e8-41fc-87da-fd5f8f5c103e",
   "metadata": {},
   "outputs": [],
   "source": [
    "def rgb_callback(image,nameBuffer, imgBuffer):\n",
    "    nameBuffer.append(image.frame)\n",
    "    img = np.reshape(np.copy(image.raw_data), (image.height, image.width, 4)) #Reshaping with alpha channel\n",
    "    img[:,:,3] = 255 #Setting the alpha to 255 \n",
    "    imgBuffer.append(img)\n",
    "\n",
    "    \n"
   ]
  },
  {
   "cell_type": "code",
   "execution_count": 16,
   "id": "3960fa96-e2e4-464d-9768-bd88cb418350",
   "metadata": {},
   "outputs": [],
   "source": [
    "def seg_callback(image, nameBuffer, imgBuffer):\n",
    "    nameBuffer.append(image.frame)\n",
    "    #image.convert(carla.ColorConverter.CityScapesPalette)\n",
    "    img = np.reshape(np.copy(image.raw_data), (image.height, image.width, 4)) #Reshaping with alpha channel\n",
    "    img[:,:,3] = 255 #Setting the alpha to 255 \n",
    "    imgBuffer.append(img)\n",
    "\n"
   ]
  },
  {
   "cell_type": "code",
   "execution_count": 17,
   "id": "bd6850ee-9ae3-43e6-bf16-f5b378784999",
   "metadata": {},
   "outputs": [],
   "source": [
    "# Get the map's spawn points\n",
    "spawn_points = world.get_map().get_spawn_points()\n",
    "\n",
    "# Spawn 50 vehicles randomly distributed throughout the map \n",
    "# for each spawn point, we choose a random vehicle from the blueprint library\n",
    "for i in range(0,50):\n",
    "    world.try_spawn_actor(random.choice(vehicle_blueprints), random.choice(spawn_points))"
   ]
  },
  {
   "cell_type": "code",
   "execution_count": 18,
   "id": "281535be-dc6b-4c87-9948-24e3a9431fd1",
   "metadata": {},
   "outputs": [
    {
     "name": "stdout",
     "output_type": "stream",
     "text": [
      "WeatherParameters(cloudiness=20.000000, precipitation=0.000000, precipitation_deposits=0.000000, wind_intensity=10.000000, sun_azimuth_angle=0.000000, sun_altitude_angle=-90.000000, fog_density=2.000000, fog_distance=0.750000, fog_falloff=0.100000, wetness=0.000000, scattering_intensity=1.000000, mie_scattering_scale=0.000000, rayleigh_scattering_scale=0.033100, dust_storm=0.000000)\n"
     ]
    }
   ],
   "source": [
    "weather = carla.WeatherParameters(cloudiness=20.000000, precipitation=0.000000, precipitation_deposits=0.000000, wind_intensity=10.000000, sun_altitude_angle=-90.000000, fog_density=2.000000, fog_distance=0.750000, fog_falloff=0.100000, wetness=0.000000, scattering_intensity=1.000000)\n",
    "\n",
    "world.set_weather(weather)\n",
    "\n",
    "print(world.get_weather())"
   ]
  },
  {
   "cell_type": "code",
   "execution_count": 19,
   "id": "48a0a51f-5798-410c-a6bf-ea2e5885ceea",
   "metadata": {},
   "outputs": [],
   "source": [
    "for vehicle in world.get_actors().filter('*vehicle*'):\n",
    "    lights = carla.VehicleLightState.Position\n",
    "    lights |= carla.VehicleLightState.LowBeam\n",
    "    #vehicle.set_light_state(lights)\n",
    "    vehicle.set_light_state(carla.VehicleLightState(lights))\n",
    "    "
   ]
  },
  {
   "cell_type": "code",
   "execution_count": 20,
   "id": "54bc7fce-6339-404c-abda-cb9878b6808d",
   "metadata": {},
   "outputs": [],
   "source": [
    "lm = world.get_lightmanager()\n",
    "lights = lm.get_all_lights()\n",
    "lm.turn_on(lights)"
   ]
  },
  {
   "cell_type": "code",
   "execution_count": 21,
   "id": "37f6503e-795b-4cf3-8072-ae4f2188bd2e",
   "metadata": {},
   "outputs": [],
   "source": [
    "lm = world.get_lightmanager()\n",
    "lights = lm.get_all_lights(carla.LightGroup.Vehicle)\n",
    "for light in lights:\n",
    "    light.set_intensity(2000.0)"
   ]
  },
  {
   "cell_type": "code",
   "execution_count": 22,
   "id": "cc4a63c6-f288-4b02-90ac-38641539c980",
   "metadata": {},
   "outputs": [],
   "source": [
    "for vehicle in world.get_actors().filter('*vehicle*'):\n",
    "    vehicle.set_autopilot(True)"
   ]
  },
  {
   "cell_type": "code",
   "execution_count": 23,
   "id": "5c55bbc9-56b7-40ba-8275-b7c4c9712bb5",
   "metadata": {},
   "outputs": [],
   "source": [
    "import numpy as np\n",
    "import cv2\n",
    "import time\n",
    "\n",
    "settings = world.get_settings()\n",
    "settings.synchronous_mode = True # Enables synchronous mode\n",
    "settings.fixed_delta_seconds = 0.01\n",
    "world.apply_settings(settings)\n",
    "\n",
    "\n",
    "\n",
    "#rgbData = {'rgb_image': np.zeros((image_h, image_w, 4))}\n",
    "rgbNameBuffer = []\n",
    "rgbImgBuffer = []\n",
    "camera.listen(lambda image: rgb_callback(image, rgbNameBuffer, rgbImgBuffer ))\n",
    "#segData = {'seg_image': np.zeros((image_h, image_w, 4))}\n",
    "segNameBuffer = []\n",
    "segImgBuffer = []\n",
    "seg_cam.listen(lambda image: seg_callback(image, segNameBuffer, segImgBuffer))"
   ]
  },
  {
   "cell_type": "code",
   "execution_count": 24,
   "id": "af6c5e54-a878-4432-bff4-e9718e3e508e",
   "metadata": {},
   "outputs": [],
   "source": [
    "\n",
    "MAX_BUFFER_SIZE = 1000\n",
    "counter = 0 "
   ]
  },
  {
   "cell_type": "code",
   "execution_count": null,
   "id": "7ebf6736-a77c-4117-9ace-4cc3e9b98e09",
   "metadata": {},
   "outputs": [],
   "source": [
    "while 1:\n",
    "    try:\n",
    "    \n",
    "        if(counter >= MAX_BUFFER_SIZE):\n",
    "            counter = 0\n",
    "            for name,img in zip(rgbNameBuffer,rgbImgBuffer):\n",
    "                path = '_out2/' + time.strftime(\"%Y%m%d-%H%M\") +\"-\"+ str(name)+\".png\"\n",
    "                cv2.imwrite(path, img)\n",
    "            rgbNameBuffer.clear()\n",
    "            rgbImgBuffer.clear()\n",
    "            for name,img in zip(segNameBuffer,segImgBuffer):\n",
    "                path = '_outSeg2/' + time.strftime(\"%Y%m%d-%H%M\") +\"-\"+ str(name)+\".png\"\n",
    "                cv2.imwrite(path, img)\n",
    "            segNameBuffer.clear()\n",
    "            segImgBuffer.clear()\n",
    "        else:\n",
    "            counter +=1\n",
    "            world.tick()\n",
    "    except: \n",
    "        print(\"\")\n"
   ]
  }
 ],
 "metadata": {
  "kernelspec": {
   "display_name": "Python 3 (ipykernel)",
   "language": "python",
   "name": "python3"
  },
  "language_info": {
   "codemirror_mode": {
    "name": "ipython",
    "version": 3
   },
   "file_extension": ".py",
   "mimetype": "text/x-python",
   "name": "python",
   "nbconvert_exporter": "python",
   "pygments_lexer": "ipython3",
   "version": "3.9.18"
  }
 },
 "nbformat": 4,
 "nbformat_minor": 5
}
